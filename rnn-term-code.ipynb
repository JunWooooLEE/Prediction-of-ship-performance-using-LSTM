{
 "cells": [
  {
   "cell_type": "code",
   "execution_count": 1,
   "metadata": {},
   "outputs": [
    {
     "name": "stderr",
     "output_type": "stream",
     "text": [
      "C:\\Users\\OPT622\\Anaconda3\\lib\\site-packages\\h5py\\__init__.py:36: FutureWarning: Conversion of the second argument of issubdtype from `float` to `np.floating` is deprecated. In future, it will be treated as `np.float64 == np.dtype(float).type`.\n",
      "  from ._conv import register_converters as _register_converters\n",
      "Using TensorFlow backend.\n"
     ]
    }
   ],
   "source": [
    "'''\n",
    "This script shows how to predict main engine fuel consumption using a basic RNN\n",
    "'''\n",
    "import tensorflow as tf\n",
    "import numpy as np\n",
    "import matplotlib.pyplot as plt\n",
    "import os\n",
    "import keras\n",
    "from keras.layers import Dense\n",
    "from keras.layers import Embedding\n",
    "from keras.models import Sequential\n",
    "from keras.utils import to_categorical\n",
    "from keras.optimizers import SGD \n",
    "from keras.callbacks import EarlyStopping\n",
    "from keras.utils import np_utils\n",
    "import itertools\n",
    "from keras.layers import LSTM\n",
    "from keras.layers.convolutional import Conv1D\n",
    "from keras.layers.convolutional import MaxPooling1D\n",
    "from keras.layers import Dropout"
   ]
  },
  {
   "cell_type": "code",
   "execution_count": 2,
   "metadata": {},
   "outputs": [],
   "source": [
    "def MinMaxScaler(data):\n",
    "    ''' Min Max Normalization\n",
    "\n",
    "    Parameters\n",
    "    ----------\n",
    "    data : numpy.ndarray\n",
    "        input data to be normalized\n",
    "        shape: [Batch size, dimension]\n",
    "\n",
    "    Returns\n",
    "    ----------\n",
    "    data : numpy.ndarry\n",
    "        normalized data\n",
    "        shape: [Batch size, dimension]\n",
    "\n",
    "    References\n",
    "    ----------\n",
    "    .. [1] http://sebastianraschka.com/Articles/2014_about_feature_scaling.html\n",
    "\n",
    "    '''\n",
    "    numerator = data - np.min(data, 0)\n",
    "    denominator = np.max(data, 0) - np.min(data, 0)\n",
    "    # noise term prevents the zero division\n",
    "    return numerator / (denominator + 1e-7)"
   ]
  },
  {
   "cell_type": "code",
   "execution_count": 3,
   "metadata": {},
   "outputs": [],
   "source": [
    "# train Parameters\n",
    "seq_length = 6 #Sequence length\n",
    "data_dim = 12 #input dimension\n",
    "output_dim = 1 #output dimension\n",
    "learning_rate = 0.01 #learning rate\n",
    "iterations = 300 # iteration\n",
    "\n",
    "# Open, High, Low, Volume, Close\n",
    "xy = np.loadtxt('2017dataset_3.csv', delimiter=',') \n",
    "#xy = xy[::-1]  # reverse order (chronically ordered)\n",
    "xy = MinMaxScaler(xy)\n",
    "x = xy\n",
    "y = xy[:, [-1]]  # Close as label"
   ]
  },
  {
   "cell_type": "code",
   "execution_count": 4,
   "metadata": {},
   "outputs": [
    {
     "data": {
      "image/png": "[encoded data removed]",
      "text/plain": [
       "<matplotlib.figure.Figure at 0x2bcd9b39f60>"
      ]
     },
     "metadata": {},
     "output_type": "display_data"
    }
   ],
   "source": [
    "plt.plot(y)\n",
    "plt.show()"
   ]
  },
  {
   "cell_type": "code",
   "execution_count": 5,
   "metadata": {},
   "outputs": [],
   "source": [
    "# build a dataset\n",
    "dataX = []\n",
    "dataY = []\n",
    "for i in range(0, len(y) - seq_length):\n",
    "    _x = x[i:i + seq_length]\n",
    "    _y = y[i + seq_length]  # Next close price\n",
    "    #print(_x, \"->\", _y)\n",
    "    dataX.append(_x)\n",
    "    dataY.append(_y)\n",
    "\n",
    "# train/test split\n",
    "train_size = int(len(dataY) * 0.7)\n",
    "test_size = len(dataY) - train_size\n",
    "trainX, testX = np.array(dataX[0:train_size]), np.array(\n",
    "    dataX[train_size:len(dataX)])\n",
    "trainY, testY = np.array(dataY[0:train_size]), np.array(\n",
    "    dataY[train_size:len(dataY)])\n",
    "\n",
    "# input place holders\n",
    "X = tf.placeholder(tf.float32, [None, seq_length, data_dim], name = 'X-input')\n",
    "Y = tf.placeholder(tf.float32, [None, 1], name = 'Y-input')"
   ]
  },
  {
   "cell_type": "code",
   "execution_count": 6,
   "metadata": {},
   "outputs": [
    {
     "name": "stdout",
     "output_type": "stream",
     "text": [
      "(62995, 6, 12)\n"
     ]
    }
   ],
   "source": [
    "len(dataY)\n",
    "print(trainX.shape)"
   ]
  },
  {
   "cell_type": "code",
   "execution_count": 7,
   "metadata": {},
   "outputs": [
    {
     "name": "stdout",
     "output_type": "stream",
     "text": [
      "Train on 62995 samples, validate on 26999 samples\n",
      "Epoch 1/20\n",
      " - 6s - loss: 0.0167 - val_loss: 8.9040e-04\n",
      "Epoch 2/20\n",
      " - 5s - loss: 0.0036 - val_loss: 6.5562e-04\n",
      "Epoch 3/20\n",
      " - 5s - loss: 0.0016 - val_loss: 5.3749e-04\n",
      "Epoch 4/20\n",
      " - 5s - loss: 0.0014 - val_loss: 5.3094e-04\n",
      "Epoch 5/20\n",
      " - 5s - loss: 0.0014 - val_loss: 9.0571e-04\n",
      "Epoch 6/20\n",
      " - 5s - loss: 0.0013 - val_loss: 8.1571e-04\n",
      "Epoch 7/20\n",
      " - 5s - loss: 0.0013 - val_loss: 6.3826e-04\n",
      "Epoch 8/20\n",
      " - 5s - loss: 0.0012 - val_loss: 4.1181e-04\n",
      "Epoch 9/20\n",
      " - 5s - loss: 0.0012 - val_loss: 5.9823e-04\n",
      "Epoch 10/20\n",
      " - 5s - loss: 0.0012 - val_loss: 4.9976e-04\n",
      "Epoch 11/20\n",
      " - 5s - loss: 0.0011 - val_loss: 4.7548e-04\n",
      "Epoch 12/20\n",
      " - 5s - loss: 0.0011 - val_loss: 4.2066e-04\n",
      "Epoch 13/20\n",
      " - 5s - loss: 0.0011 - val_loss: 4.1627e-04\n",
      "Epoch 14/20\n",
      " - 5s - loss: 0.0011 - val_loss: 4.1840e-04\n",
      "Epoch 15/20\n",
      " - 5s - loss: 0.0011 - val_loss: 3.8636e-04\n",
      "Epoch 16/20\n",
      " - 5s - loss: 0.0011 - val_loss: 4.4505e-04\n",
      "Epoch 17/20\n",
      " - 5s - loss: 0.0011 - val_loss: 5.0443e-04\n",
      "Epoch 18/20\n",
      " - 5s - loss: 0.0011 - val_loss: 4.4200e-04\n",
      "Epoch 19/20\n",
      " - 5s - loss: 0.0011 - val_loss: 4.4409e-04\n",
      "Epoch 20/20\n",
      " - 5s - loss: 0.0011 - val_loss: 4.1915e-04\n"
     ]
    }
   ],
   "source": [
    "\n",
    "\n",
    "\n",
    "\n",
    "model = Sequential()\n",
    "model.add(Conv1D(64,3,activation='relu',input_shape=(seq_length,data_dim)))\n",
    "#model.add(LSTM(100, input_shape=(12, 7), return_sequences=True))\n",
    "model.add(LSTM(15, return_sequences=True))\n",
    "model.add(Dropout(0.2))\n",
    "model.add(LSTM(9))\n",
    "model.add(Dropout(0.3)) #return_sequences=True\n",
    "model.add(Dense(1)) #activation='softmax'\n",
    "model.compile(loss='mean_squared_error', optimizer='adam')\n",
    "\n",
    "# fit network\n",
    "history = model.fit(trainX, trainY, \n",
    "                    epochs=20, batch_size=70, \n",
    "                    validation_data=(testX, testY), \n",
    "                    verbose=2, shuffle=True) #shuffle=False\n",
    "   "
   ]
  },
  {
   "cell_type": "code",
   "execution_count": 8,
   "metadata": {},
   "outputs": [
    {
     "name": "stdout",
     "output_type": "stream",
     "text": [
      "RMSE: 0.0204730574041605\n"
     ]
    }
   ],
   "source": [
    "yhat1 = model.predict(testX)\n",
    "testX = testX.reshape((testX.shape[0],seq_length,data_dim))\n",
    "targets = tf.placeholder(tf.float32, [None, 1])\n",
    "predictions = tf.placeholder(tf.float32, [None, 1])\n",
    "rmse = tf.sqrt(tf.reduce_mean(tf.square(targets - predictions)))\n",
    "with tf.Session() as sess:\n",
    "    rmse_val = sess.run(rmse, feed_dict={\n",
    "            targets: testY, predictions:yhat1})\n",
    "    print(\"RMSE: {}\".format(rmse_val))"
   ]
  },
  {
   "cell_type": "code",
   "execution_count": 9,
   "metadata": {},
   "outputs": [
    {
     "data": {
      "image/png": "[encoded data removed]",
      "text/plain": [
       "<matplotlib.figure.Figure at 0x2bce148e080>"
      ]
     },
     "metadata": {},
     "output_type": "display_data"
    }
   ],
   "source": [
    "# Plot predictions\n",
    "plt.plot(testY)\n",
    "plt.plot(yhat1)\n",
    "plt.xlabel(\"Time Period\")\n",
    "plt.ylabel(\"Main Engine Fuel Consumption per hourly\")\n",
    "plt.show()\n"
   ]
  },
  {
   "cell_type": "code",
   "execution_count": 11,
   "metadata": {},
   "outputs": [],
   "source": [
    "np.savetxt('test.csv',testY,delimiter=',')\n",
    "np.savetxt('pre.csv',yhat1,delimiter=',')"
   ]
  }
 ],
 "metadata": {
  "kernelspec": {
   "display_name": "Python 3",
   "language": "python",
   "name": "python3"
  },
  "language_info": {
   "codemirror_mode": {
    "name": "ipython",
    "version": 3
   },
   "file_extension": ".py",
   "mimetype": "text/x-python",
   "name": "python",
   "nbconvert_exporter": "python",
   "pygments_lexer": "ipython3",
   "version": "3.6.4"
  }
 },
 "nbformat": 4,
 "nbformat_minor": 2
}
